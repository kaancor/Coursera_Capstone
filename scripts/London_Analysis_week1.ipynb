{
 "metadata": {
  "language_info": {
   "codemirror_mode": {
    "name": "ipython",
    "version": 3
   },
   "file_extension": ".py",
   "mimetype": "text/x-python",
   "name": "python",
   "nbconvert_exporter": "python",
   "pygments_lexer": "ipython3",
   "version": 3
  },
  "orig_nbformat": 2
 },
 "nbformat": 4,
 "nbformat_minor": 2,
 "cells": [
  {
   "source": [
    "# London Analysis Week 1"
   ],
   "cell_type": "markdown",
   "metadata": {}
  },
  {
   "source": [
    "## Problem Description and Background"
   ],
   "cell_type": "markdown",
   "metadata": {}
  },
  {
   "source": [
    " London is one of the most multicultural cities in the world. It is a great tourist attraction and busy at all seasons of the year. The city offers a wide range of restaurants and cuisines. There are currently 8.9m people living in the city. Pubs are a big part of the English culture. The objective of this project is to recommend the perfect spot in London to open a pub. Since there is a pub in every neighbourhood of London, I will be using the Foursquare API along with data scrapped from the web to identify the most suitable location to open a pub in London. I will be using the clustering technique to group neighbourhoods according to the occurrence of pubs in that area. Then I will use some plots to determine the desired location for opening this pub. The analysis in this project is aimed to target business owners who are interested in opening a pub in London.\n",
    "\n",
    "There is 1 main problems that this project aims to surpass by reccomending the best location for the new pub.\n",
    "\n",
    "1.Number of pubs in London are already very high.\n"
   ],
   "cell_type": "markdown",
   "metadata": {}
  },
  {
   "source": [
    "## Description of Data"
   ],
   "cell_type": "markdown",
   "metadata": {}
  },
  {
   "source": [
    " In this project we will be using the web scraping method to create a data frame that consist of neighbourhoods, London boroughs and post codes. London has 32 Boroughs. For this project I will be focusing on central London. So a filtering will be applied to the dataframe once created. Geopy Library will be used to return the coordinates of these neighbourhoods and added to the dataframe. Following this procedure we will use the Foursquare API to retrieve the venues in defined range of these neighbourhoods and create a new dataframe to work on.\n",
    "\n",
    "Data Source: https://en.m.wikipedia.org/wiki/List_of_areas_of_London"
   ],
   "cell_type": "markdown",
   "metadata": {}
  },
  {
   "source": [
    "## Expected Outcome"
   ],
   "cell_type": "markdown",
   "metadata": {}
  },
  {
   "source": [
    "The expected outcome of the project is to reccomend a location based on occurance in area. The project does not take into account factors such as \"Beer Pricing\", \"down trend in buisinesses due to covid\". A more in depth analysis would be required to include such factors when data is available."
   ],
   "cell_type": "markdown",
   "metadata": {}
  }
 ]
}